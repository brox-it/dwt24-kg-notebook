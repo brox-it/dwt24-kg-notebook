{
  "nbformat": 4,
  "nbformat_minor": 0,
  "metadata": {
    "colab": {
      "provenance": [],
      "toc_visible": true
    },
    "kernelspec": {
      "name": "python3",
      "display_name": "Python 3"
    },
    "language_info": {
      "name": "python"
    }
  },
  "cells": [
    {
      "cell_type": "markdown",
      "source": [
        "# Configure database connection"
      ],
      "metadata": {
        "id": "igWmIHlIrfmz"
      }
    },
    {
      "cell_type": "markdown",
      "source": [
        "We have prepared a hosted database (triplestore / SPARQL endpoint) for you. Let’s connect to it:\n",
        "\n",
        "In this Notebook, go to \"Secrets\" in the left sidebar, and add two secrets:\n",
        "\n",
        "* Name: `sparql_user`, Value: your username (from the note)\n",
        "* Name: `sparql_password`, Value: your password (from the note)\n",
        "\n",
        "Enable \"Notebook access\" for both.\n",
        "\n",
        "Then execute the following cell to set the database connection details as environment variables:"
      ],
      "metadata": {
        "id": "mqs_EPtWrysg"
      }
    },
    {
      "cell_type": "code",
      "source": [
        "import os\n",
        "from google.colab import userdata\n",
        "os.environ['SPARQL_USER'] = userdata.get('sparql_user')\n",
        "os.environ['SPARQL_PASSWORD'] = userdata.get('sparql_password')\n",
        "os.environ['SPARQL_ENDPOINT_STORE'] = \"https://sd-84c02130.stardog.cloud:5820/\" + userdata.get('sparql_user')\n",
        "os.environ['SPARQL_ENDPOINT_QUERY'] = \"https://sd-84c02130.stardog.cloud:5820/\" + userdata.get('sparql_user') + \"/query\"\n",
        "os.environ['SPARQL_ENDPOINT_UPDATE'] = \"https://sd-84c02130.stardog.cloud:5820/\" + userdata.get('sparql_user') + \"/update\"\n"
      ],
      "metadata": {
        "id": "ZzjZYShgX-lH"
      },
      "execution_count": 41,
      "outputs": []
    },
    {
      "cell_type": "markdown",
      "source": [
        "## Test connection"
      ],
      "metadata": {
        "id": "5a_Trfa5Y683"
      }
    },
    {
      "cell_type": "markdown",
      "source": [
        "To test if the database connection works, execute the following SPARQL query. It should output just the string `graph`, which means that no named graphs exist yet."
      ],
      "metadata": {
        "id": "ptiLSf2NvMa-"
      }
    },
    {
      "cell_type": "code",
      "source": [
        "!curl -X GET \\\n",
        "      -H \"Accept:text/csv\" \\\n",
        "      --user \"${SPARQL_USER}:${SPARQL_PASSWORD}\" \\\n",
        "      \"${SPARQL_ENDPOINT_QUERY}\" \\\n",
        "      --data-urlencode \"query=SELECT DISTINCT ?graph WHERE { GRAPH ?graph { [] ?p [] . } }\""
      ],
      "metadata": {
        "colab": {
          "base_uri": "https://localhost:8080/"
        },
        "id": "71tRB1NwvmbI",
        "outputId": "a30a2898-3ec4-48ec-9bd2-4b1981921e47"
      },
      "execution_count": 38,
      "outputs": [
        {
          "output_type": "stream",
          "name": "stdout",
          "text": [
            "graph\n",
            "https://graphs.brox.de/dwt24/data/\n",
            "https://graphs.brox.de/dwt24/ontologies/\n",
            "https://graphs.brox.de/dwt24/shacl-shapes/\n",
            "https://graphs.brox.de/dwt24/shacl-reports/\n"
          ]
        }
      ]
    },
    {
      "cell_type": "markdown",
      "source": [
        "# Install tools"
      ],
      "metadata": {
        "id": "5WuEHrxhUrip"
      }
    },
    {
      "cell_type": "markdown",
      "source": [
        "## SPARQL Anything"
      ],
      "metadata": {
        "id": "dIihJcxXrVPZ"
      }
    },
    {
      "cell_type": "markdown",
      "source": [
        "Links: [Website](https://sparql-anything.cc/) · [Repo](https://github.com/SPARQL-Anything/sparql.anything) · [Documentation](https://sparql-anything.readthedocs.io/en/latest/)"
      ],
      "metadata": {
        "id": "bKEv9mUbYqJf"
      }
    },
    {
      "cell_type": "code",
      "source": [
        "!wget https://github.com/SPARQL-Anything/sparql.anything/releases/download/0.9.0/sparql-anything-0.9.0.jar -O sparql-anything.jar"
      ],
      "metadata": {
        "id": "DQ2OJLzWSh-4"
      },
      "execution_count": null,
      "outputs": []
    },
    {
      "cell_type": "markdown",
      "source": [
        "## PySHACL"
      ],
      "metadata": {
        "id": "D4s4Dndp2Ubq"
      }
    },
    {
      "cell_type": "markdown",
      "source": [
        "Links: [Repo](https://github.com/RDFLib/pySHACL) · [PyPI](https://pypi.org/project/pyshacl/)"
      ],
      "metadata": {
        "id": "LvnMxgZN2bTs"
      }
    },
    {
      "cell_type": "code",
      "source": [
        "%pip install pyshacl"
      ],
      "metadata": {
        "id": "KaXl2BqY2muN"
      },
      "execution_count": null,
      "outputs": []
    },
    {
      "cell_type": "markdown",
      "source": [
        "# Build the knowledge graph"
      ],
      "metadata": {
        "id": "LACFAa5JqrZL"
      }
    },
    {
      "cell_type": "markdown",
      "source": [
        "## 1) Understand the data (XML)"
      ],
      "metadata": {
        "id": "WJIAx1MT4Cmk"
      }
    },
    {
      "cell_type": "markdown",
      "source": [
        "The input data is about\n",
        "\n",
        "* persons,\n",
        "* the management jobs they had, and\n",
        "* the skills/competences they used in these jobs.\n",
        "\n",
        "Each job can be assigned to a job category. Some skills have related skills.\n",
        "\n",
        "All the data is in four XML files in the `kg/transformations_input` directory:\n",
        "\n",
        "* …\n",
        "* …\n",
        "* …\n",
        "* …\n"
      ],
      "metadata": {
        "id": "TyJl0F-s8pwg"
      }
    },
    {
      "cell_type": "markdown",
      "source": [
        "## 2) Create the ontology (RDF)\n"
      ],
      "metadata": {
        "id": "XdOXmfYB4iHR"
      }
    },
    {
      "cell_type": "markdown",
      "source": [
        "The ontology describes what the terms (e.g., classes and properties) *mean*.\n",
        "\n",
        "The RDF file (in Turtle) is in the `kg/ontologies` directory."
      ],
      "metadata": {
        "id": "Mwwebxxv8UhB"
      }
    },
    {
      "cell_type": "markdown",
      "source": [
        "## 3) Transform the data (XML to RDF)"
      ],
      "metadata": {
        "id": "efdIgHpX4luF"
      }
    },
    {
      "cell_type": "markdown",
      "source": [
        "There are many ways to convert data to RDF. One of these ways is SPARQL-based. SPARQL is the query language for RDF, but there are tools that allow querying even *non-RDF* data as if it already were RDF. One of these tools is **SPARQL Anything**.\n",
        "\n",
        "The four query files (one for each XML file) are in the `kg/transformations` directory.\n",
        "\n",
        "The generated RDF files (in Turtle) get saved in the `kg/transformations_output` directory."
      ],
      "metadata": {
        "id": "EW45LG8SCat-"
      }
    },
    {
      "cell_type": "code",
      "source": [
        "!java -jar sparql-anything.jar \\\n",
        "      --query \"./kg/transformations/distances.rq\" \\\n",
        "      --configuration \"location=./kg/transformations_input/distances.xml\" \\\n",
        "      --output \"./kg/transformations_output/distances.ttl\" \\\n",
        "      --format \"TTL\""
      ],
      "metadata": {
        "id": "3L54InUsTYwo"
      },
      "execution_count": 36,
      "outputs": []
    },
    {
      "cell_type": "markdown",
      "source": [
        "Here we merge our four Turtle files into one, which makes it easier to validate and upload the RDF in the next steps:"
      ],
      "metadata": {
        "id": "wQKScW_7JLYA"
      }
    },
    {
      "cell_type": "code",
      "source": [
        "!cat \\\n",
        "  ./kg/transformations_output/distances.ttl \\\n",
        "  ./kg/transformations_output/jobcategories-skills.ttl \\\n",
        "  ./kg/transformations_output/jobcategories.ttl \\\n",
        "  ./kg/transformations_output/skills.ttl \\\n",
        "  > ./kg/transformations_output/data.ttl"
      ],
      "metadata": {
        "id": "tacVkNuNJTjA"
      },
      "execution_count": 21,
      "outputs": []
    },
    {
      "cell_type": "markdown",
      "source": [
        "## 4) Create SHACL shapes (RDF)"
      ],
      "metadata": {
        "id": "PXsUr1e-4w_3"
      }
    },
    {
      "cell_type": "markdown",
      "source": [
        "SHACL shapes describe what our RDF data must look like to be considered valid/conformant.\n",
        "\n",
        "The RDF file (in Turtle) is in the `kg/shapes` directory.\n",
        "\n"
      ],
      "metadata": {
        "id": "KRKfl9UtANLy"
      }
    },
    {
      "cell_type": "markdown",
      "source": [
        "### Validate the RDF"
      ],
      "metadata": {
        "id": "j8m4RxGWTgwg"
      }
    },
    {
      "cell_type": "markdown",
      "source": [
        "The generated report gets saved in the `kg/shapes_output` directory."
      ],
      "metadata": {
        "id": "DyBNnGmjTXDL"
      }
    },
    {
      "cell_type": "code",
      "source": [
        "!pyshacl \\\n",
        "  --shacl ./kg/shapes/shapes.ttl \\\n",
        "  --format turtle \\\n",
        "  --output ./kg/shapes_output/report.ttl \\\n",
        "  ./kg/transformations_output/data.ttl"
      ],
      "metadata": {
        "colab": {
          "base_uri": "https://localhost:8080/"
        },
        "id": "uZZ4mrfTNFZX",
        "outputId": "8817a9a4-4a0c-49c6-81d0-83cd7d3b6be7"
      },
      "execution_count": 39,
      "outputs": [
        {
          "output_type": "stream",
          "name": "stdout",
          "text": [
            "\n",
            "^C\n"
          ]
        }
      ]
    },
    {
      "cell_type": "markdown",
      "source": [
        "# Upload the knowledge graph"
      ],
      "metadata": {
        "id": "a3TbeO-G8AeI"
      }
    },
    {
      "cell_type": "markdown",
      "source": [
        "Thanks to the [SPARQL Protocol](https://www.w3.org/TR/sparql11-protocol/), we can upload RDF files to our triplestore using standard HTTP requests."
      ],
      "metadata": {
        "id": "w9Uq43oQFzBC"
      }
    },
    {
      "cell_type": "code",
      "source": [
        "!curl -X \"PUT\" \\\n",
        "      -H \"Content-Type:text/turtle\" \\\n",
        "      --user \"${SPARQL_USER}:${SPARQL_PASSWORD}\" \\\n",
        "      --data-binary \"@./kg/ontologies/o.ttl\" \\\n",
        "      \"${SPARQL_ENDPOINT}/?graph=https://graphs.brox.de/dwt24/ontologies/\"\n",
        "\n",
        "!curl -X \"PUT\" \\\n",
        "      -H \"Content-Type:text/turtle\" \\\n",
        "      --user \"${SPARQL_USER}:${SPARQL_PASSWORD}\" \\\n",
        "      --data-binary \"@./kg/shapes/shapes.ttl\" \\\n",
        "      \"${SPARQL_ENDPOINT}/?graph=https://graphs.brox.de/dwt24/shacl-shapes/\"\n",
        "\n",
        "!curl -X \"PUT\" \\\n",
        "      -H \"Content-Type:text/turtle\" \\\n",
        "      --user \"${SPARQL_USER}:${SPARQL_PASSWORD}\" \\\n",
        "      --data-binary \"@./kg/shapes_output/report.ttl\" \\\n",
        "      \"${SPARQL_ENDPOINT}/?graph=https://graphs.brox.de/dwt24/shacl-reports/\"\n",
        "\n",
        "!curl -X \"PUT\" \\\n",
        "      -H \"Content-Type:text/turtle\" \\\n",
        "      --user \"${SPARQL_USER}:${SPARQL_PASSWORD}\" \\\n",
        "      --data-binary \"@./kg/transformations_output/data.ttl\" \\\n",
        "      \"${SPARQL_ENDPOINT}/?graph=https://graphs.brox.de/dwt24/data/\""
      ],
      "metadata": {
        "id": "ERWknJxhUGZ1"
      },
      "execution_count": 30,
      "outputs": []
    },
    {
      "cell_type": "markdown",
      "source": [
        "# Query the knowledge graph"
      ],
      "metadata": {
        "id": "wlVRd50XQ5Zp"
      }
    },
    {
      "cell_type": "markdown",
      "source": [
        "## Named Graphs + count of instances (per class)"
      ],
      "metadata": {
        "id": "4votBZ4DQ9jR"
      }
    },
    {
      "cell_type": "code",
      "source": [
        "!curl -X GET \\\n",
        "      -H \"Accept:text/csv\" \\\n",
        "      --user \"${SPARQL_USER}:${SPARQL_PASSWORD}\" \\\n",
        "      \"${SPARQL_ENDPOINT_QUERY}\" \\\n",
        "      --data-urlencode \"query=SELECT DISTINCT ?g ?class (COUNT(DISTINCT ?s) AS ?count) WHERE { GRAPH ?g { ?s a ?class . } } GROUP BY ?g ?class ORDER BY ?g DESC(?count)\""
      ],
      "metadata": {
        "colab": {
          "base_uri": "https://localhost:8080/"
        },
        "id": "twsjqfKiRH66",
        "outputId": "3d8c8a99-5d45-4393-c2d0-81bea81ca7fe"
      },
      "execution_count": 37,
      "outputs": [
        {
          "output_type": "stream",
          "name": "stdout",
          "text": [
            "g,class,count\n",
            "https://graphs.brox.de/dwt24/data/,https://ontologies.brox.de/dwt24/Job,20913\n",
            "https://graphs.brox.de/dwt24/data/,https://ontologies.brox.de/dwt24/Skill,7549\n",
            "https://graphs.brox.de/dwt24/data/,https://ontologies.brox.de/dwt24/SkillDistance,4631\n",
            "https://graphs.brox.de/dwt24/data/,http://xmlns.com/foaf/0.1/Person,2930\n",
            "https://graphs.brox.de/dwt24/data/,https://ontologies.brox.de/dwt24/JobCategory,355\n",
            "https://graphs.brox.de/dwt24/ontologies/,http://www.w3.org/2002/07/owl#DatatypeProperty,6\n",
            "https://graphs.brox.de/dwt24/ontologies/,http://www.w3.org/2002/07/owl#Class,4\n",
            "https://graphs.brox.de/dwt24/ontologies/,http://www.w3.org/2002/07/owl#ObjectProperty,4\n",
            "https://graphs.brox.de/dwt24/ontologies/,http://www.w3.org/2002/07/owl#Ontology,1\n",
            "https://graphs.brox.de/dwt24/shacl-reports/,http://www.w3.org/ns/shacl#ValidationReport,1\n",
            "https://graphs.brox.de/dwt24/shacl-shapes/,http://www.w3.org/ns/shacl#NodeShape,10\n"
          ]
        }
      ]
    },
    {
      "cell_type": "code",
      "source": [],
      "metadata": {
        "id": "0iRKRk-2Ry_z"
      },
      "execution_count": null,
      "outputs": []
    }
  ]
}