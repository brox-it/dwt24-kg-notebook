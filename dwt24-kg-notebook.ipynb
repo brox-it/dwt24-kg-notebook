{
  "nbformat": 4,
  "nbformat_minor": 0,
  "metadata": {
    "colab": {
      "provenance": [],
      "toc_visible": true
    },
    "kernelspec": {
      "name": "python3",
      "display_name": "Python 3"
    },
    "language_info": {
      "name": "python"
    }
  },
  "cells": [
    {
      "cell_type": "markdown",
      "source": [
        "# Configure database connection"
      ],
      "metadata": {
        "id": "igWmIHlIrfmz"
      }
    },
    {
      "cell_type": "markdown",
      "source": [
        "We have prepared a hosted database (triplestore / SPARQL endpoint) for you. Let’s connect to it:\n",
        "\n",
        "In this Notebook, go to \"Secrets\" in the left sidebar, and add two secrets:\n",
        "\n",
        "* Name: `sparql_user`, Value: your username (from the note)\n",
        "* Name: `sparql_password`, Value: your password (from the note)\n",
        "\n",
        "Enable \"Notebook access\" for both.\n",
        "\n",
        "Then execute the following cell to set the database connection details as environment variables:"
      ],
      "metadata": {
        "id": "mqs_EPtWrysg"
      }
    },
    {
      "cell_type": "code",
      "source": [
        "import os\n",
        "from google.colab import userdata\n",
        "os.environ['SPARQL_USER'] = userdata.get('sparql_user')\n",
        "os.environ['SPARQL_PASSWORD'] = userdata.get('sparql_password')\n",
        "os.environ['SPARQL_ENDPOINT_STORE'] = \"https://sd-84c02130.stardog.cloud:5820/\" + userdata.get('sparql_user')\n",
        "os.environ['SPARQL_ENDPOINT_QUERY'] = os.environ['SPARQL_ENDPOINT_STORE'] + \"/query\"\n",
        "os.environ['SPARQL_ENDPOINT_UPDATE'] = os.environ['SPARQL_ENDPOINT_STORE'] + \"/update\""
      ],
      "metadata": {
        "id": "ZzjZYShgX-lH"
      },
      "execution_count": null,
      "outputs": []
    },
    {
      "cell_type": "markdown",
      "source": [
        "## Test connection"
      ],
      "metadata": {
        "id": "5a_Trfa5Y683"
      }
    },
    {
      "cell_type": "markdown",
      "source": [
        "To test if the database connection works, execute the following SPARQL query. It should output just the string `graph`, which means that no named graphs exist yet."
      ],
      "metadata": {
        "id": "ptiLSf2NvMa-"
      }
    },
    {
      "cell_type": "code",
      "source": [
        "!curl -X GET \\\n",
        "      -H \"Accept:text/csv\" \\\n",
        "      --user \"${SPARQL_USER}:${SPARQL_PASSWORD}\" \\\n",
        "      \"${SPARQL_ENDPOINT_QUERY}\" \\\n",
        "      --data-urlencode \"query=SELECT DISTINCT ?graph WHERE { GRAPH ?graph { [] ?p [] . } }\""
      ],
      "metadata": {
        "id": "71tRB1NwvmbI"
      },
      "execution_count": null,
      "outputs": []
    },
    {
      "cell_type": "markdown",
      "source": [
        "## Clear database"
      ],
      "metadata": {
        "id": "hphSEiiPcj9B"
      }
    },
    {
      "cell_type": "markdown",
      "source": [
        "In case you want to **delete everything** in your database, run this SPARQL query:"
      ],
      "metadata": {
        "id": "CpMtW_qgcnBc"
      }
    },
    {
      "cell_type": "code",
      "source": [
        "!curl --request \"POST\" \\\n",
        "      --header \"Content-Type:application/sparql-update\" \\\n",
        "      --data-binary \"DROP ALL\" \\\n",
        "      --user \"${SPARQL_USER}:${SPARQL_PASSWORD}\" \\\n",
        "      \"${SPARQL_ENDPOINT_UPDATE}\""
      ],
      "metadata": {
        "id": "VxnGwB8Xcs2H"
      },
      "execution_count": null,
      "outputs": []
    },
    {
      "cell_type": "markdown",
      "source": [
        "# Download files"
      ],
      "metadata": {
        "id": "X1h_1CyRE7ex"
      }
    },
    {
      "cell_type": "code",
      "source": [
        "!git clone https://github.com/brox-it/dwt24-kg-notebook.git\n",
        "%cd ./dwt24-kg-notebook/"
      ],
      "metadata": {
        "id": "tM3fNMylFC8Q"
      },
      "execution_count": null,
      "outputs": []
    },
    {
      "cell_type": "markdown",
      "source": [
        "# Install tools"
      ],
      "metadata": {
        "id": "5WuEHrxhUrip"
      }
    },
    {
      "cell_type": "markdown",
      "source": [
        "## SPARQL Anything"
      ],
      "metadata": {
        "id": "dIihJcxXrVPZ"
      }
    },
    {
      "cell_type": "markdown",
      "source": [
        "Links: [Website](https://sparql-anything.cc/) · [Repo](https://github.com/SPARQL-Anything/sparql.anything) · [Documentation](https://sparql-anything.readthedocs.io/en/latest/)"
      ],
      "metadata": {
        "id": "bKEv9mUbYqJf"
      }
    },
    {
      "cell_type": "code",
      "source": [
        "!wget https://github.com/SPARQL-Anything/sparql.anything/releases/download/0.9.0/sparql-anything-0.9.0.jar -O sparql-anything.jar"
      ],
      "metadata": {
        "id": "DQ2OJLzWSh-4"
      },
      "execution_count": null,
      "outputs": []
    },
    {
      "cell_type": "markdown",
      "source": [
        "## PySHACL"
      ],
      "metadata": {
        "id": "D4s4Dndp2Ubq"
      }
    },
    {
      "cell_type": "markdown",
      "source": [
        "Links: [Repo](https://github.com/RDFLib/pySHACL) · [PyPI](https://pypi.org/project/pyshacl/)"
      ],
      "metadata": {
        "id": "LvnMxgZN2bTs"
      }
    },
    {
      "cell_type": "code",
      "source": [
        "%pip install pyshacl"
      ],
      "metadata": {
        "id": "KaXl2BqY2muN"
      },
      "execution_count": null,
      "outputs": []
    },
    {
      "cell_type": "markdown",
      "source": [
        "# Build the knowledge graph"
      ],
      "metadata": {
        "id": "LACFAa5JqrZL"
      }
    },
    {
      "cell_type": "markdown",
      "source": [
        "## 1) Understand the data (XML)"
      ],
      "metadata": {
        "id": "WJIAx1MT4Cmk"
      }
    },
    {
      "cell_type": "markdown",
      "source": [
        "The input data is about\n",
        "\n",
        "* persons,\n",
        "* the management jobs they had, and\n",
        "* the skills/competences they used in these jobs.\n",
        "\n",
        "Each job can be assigned to a job category. Some skills have related skills.\n",
        "\n",
        "The data is in four XML files in the `transformations_input` directory:\n",
        "\n",
        "* `distances.xml` for skills that are related to each other\n",
        "* `jobcategories.xml` for assigning job categories to jobs\n",
        "* `jobcategories-skills.xml` for connecting job categories and skills\n",
        "* `skills.xml` for jobs (with skills) of a person\n"
      ],
      "metadata": {
        "id": "TyJl0F-s8pwg"
      }
    },
    {
      "cell_type": "markdown",
      "source": [
        "## 2) Create the ontology (RDF)\n"
      ],
      "metadata": {
        "id": "XdOXmfYB4iHR"
      }
    },
    {
      "cell_type": "markdown",
      "source": [
        "The ontology describes what our RDF terms (e.g., classes and properties) *mean*.\n",
        "\n",
        "The ontology itself is also formulated in RDF.\n",
        "\n",
        "You can find  the RDF file (Turtle) in the `ontologies` directory."
      ],
      "metadata": {
        "id": "Mwwebxxv8UhB"
      }
    },
    {
      "cell_type": "markdown",
      "source": [
        "### Visualize the ontology"
      ],
      "metadata": {
        "id": "3pbMizxS5JZc"
      }
    },
    {
      "cell_type": "markdown",
      "source": [
        "You can generate a graph visualization using the web-app https://service.tib.eu/webvowl/.\n",
        "\n",
        "Download the file `ontologies/o.ttl` and upload it to the web app under \"Ontology\" (bottom toolbar) → \"Custom Ontology\".\n",
        "\n",
        "Note that this ontology just contains the terms we defined ourselves. In our RDF data, we also make use of terms that are defined in external ontologies."
      ],
      "metadata": {
        "id": "jjyh2E0K5Lgj"
      }
    },
    {
      "cell_type": "markdown",
      "source": [
        "## 3) Transform the data (XML to RDF)"
      ],
      "metadata": {
        "id": "efdIgHpX4luF"
      }
    },
    {
      "cell_type": "markdown",
      "source": [
        "There are many ways to convert data to RDF. One of these ways is SPARQL-based. SPARQL is the query language for RDF, but there are tools that allow querying even *non-RDF* data as if it already were RDF. One of these tools is **SPARQL Anything**."
      ],
      "metadata": {
        "id": "EW45LG8SCat-"
      }
    },
    {
      "cell_type": "markdown",
      "source": [
        "### Transformation playground (CSV)"
      ],
      "metadata": {
        "id": "tMqC_kkqSWTG"
      }
    },
    {
      "cell_type": "markdown",
      "source": [
        "Here is an example CSV file:"
      ],
      "metadata": {
        "id": "LynOAzg2TD9Q"
      }
    },
    {
      "cell_type": "code",
      "source": [
        "%%writefile ./transformations_playground/example.csv\n",
        "id,name,color\n",
        "001,Alex,blue\n",
        "002,Liz,green\n",
        "003,Tio,red"
      ],
      "metadata": {
        "id": "_3AmexwITZ-U"
      },
      "execution_count": null,
      "outputs": []
    },
    {
      "cell_type": "markdown",
      "source": [
        "Here is the SPARQL `CONSTRUCT` query:"
      ],
      "metadata": {
        "id": "aKtY0ysoT2-m"
      }
    },
    {
      "cell_type": "code",
      "source": [
        "%%writefile ./transformations_playground/example.sparql\n",
        "PREFIX rdf:  <http://www.w3.org/1999/02/22-rdf-syntax-ns#>\n",
        "PREFIX rdfs: <http://www.w3.org/2000/01/rdf-schema#>\n",
        "PREFIX fx:   <http://sparql.xyz/facade-x/ns/>\n",
        "PREFIX xyz:  <http://sparql.xyz/facade-x/data/>\n",
        "PREFIX ex:   <https://example.com/>\n",
        "\n",
        "CONSTRUCT {\n",
        "\n",
        "  ?s ?p ?o .\n",
        "\n",
        "}\n",
        "\n",
        "WHERE {\n",
        "\n",
        "  SERVICE <x-sparql-anything:csv.headers=true,blank-nodes=true> {\n",
        "\n",
        "    ?s ?p ?o .\n",
        "\n",
        "  }\n",
        "\n",
        "}"
      ],
      "metadata": {
        "id": "ulN8CnxlT9Qx"
      },
      "execution_count": null,
      "outputs": []
    },
    {
      "cell_type": "markdown",
      "source": [
        "Now we call SPARQL Anything to transform the CSV to RDF (Turtle). The output gets printed here:"
      ],
      "metadata": {
        "id": "zjURzUpAT-i8"
      }
    },
    {
      "cell_type": "code",
      "source": [
        "!java -jar sparql-anything.jar \\\n",
        "      --query \"./transformations_playground/example.sparql\" \\\n",
        "      --configuration \"location=./transformations_playground/example.csv\""
      ],
      "metadata": {
        "id": "P5ysOscJW_ED"
      },
      "execution_count": null,
      "outputs": []
    },
    {
      "cell_type": "markdown",
      "source": [
        "### Final transformations"
      ],
      "metadata": {
        "id": "XQlC9nUtRiIO"
      }
    },
    {
      "cell_type": "markdown",
      "source": [
        "You can find the four query files (one for each XML file) in the `transformations` directory.\n",
        "\n",
        "The generated RDF files (in Turtle) get saved in the `transformations_output` directory."
      ],
      "metadata": {
        "id": "aflfeZ-gReJZ"
      }
    },
    {
      "cell_type": "code",
      "source": [
        "!java -jar sparql-anything.jar \\\n",
        "      --query \"./transformations/distances.sparql\" \\\n",
        "      --configuration \"location=./transformations_input/distances.xml\" \\\n",
        "      --output \"./transformations_output/distances.ttl\" \\\n",
        "      --format \"TTL\""
      ],
      "metadata": {
        "id": "3L54InUsTYwo"
      },
      "execution_count": null,
      "outputs": []
    },
    {
      "cell_type": "code",
      "source": [
        "!java -jar sparql-anything.jar \\\n",
        "      --query \"./transformations/jobcategories.sparql\" \\\n",
        "      --configuration \"location=./transformations_input/jobcategories.xml\" \\\n",
        "      --output \"./transformations_output/jobcategories.ttl\" \\\n",
        "      --format \"TTL\""
      ],
      "metadata": {
        "id": "JrcMwHeLO36t"
      },
      "execution_count": null,
      "outputs": []
    },
    {
      "cell_type": "code",
      "source": [
        "!java -jar sparql-anything.jar \\\n",
        "      --query \"./transformations/jobcategories-skills.sparql\" \\\n",
        "      --configuration \"location=./transformations_input/jobcategories-skills.xml\" \\\n",
        "      --output \"./transformations_output/jobcategories-skills.ttl\" \\\n",
        "      --format \"TTL\""
      ],
      "metadata": {
        "id": "srym95rWPKfr"
      },
      "execution_count": null,
      "outputs": []
    },
    {
      "cell_type": "code",
      "source": [
        "!java -jar sparql-anything.jar \\\n",
        "      --query \"./transformations/skills.sparql\" \\\n",
        "      --configuration \"location=./transformations_input/skills.xml\" \\\n",
        "      --output \"./transformations_output/skills.ttl\" \\\n",
        "      --format \"TTL\""
      ],
      "metadata": {
        "id": "MP1CQ069PKVS"
      },
      "execution_count": null,
      "outputs": []
    },
    {
      "cell_type": "markdown",
      "source": [
        "Here we merge our four Turtle files into one, which makes it easier to validate and upload the RDF in the next steps:"
      ],
      "metadata": {
        "id": "wQKScW_7JLYA"
      }
    },
    {
      "cell_type": "code",
      "source": [
        "!cat \\\n",
        "  ./transformations_output/distances.ttl \\\n",
        "  ./transformations_output/jobcategories-skills.ttl \\\n",
        "  ./transformations_output/jobcategories.ttl \\\n",
        "  ./transformations_output/skills.ttl \\\n",
        "  > ./transformations_output/data.ttl"
      ],
      "metadata": {
        "id": "tacVkNuNJTjA"
      },
      "execution_count": null,
      "outputs": []
    },
    {
      "cell_type": "markdown",
      "source": [
        "## 4) Create SHACL shapes (RDF)"
      ],
      "metadata": {
        "id": "PXsUr1e-4w_3"
      }
    },
    {
      "cell_type": "markdown",
      "source": [
        "[SHACL](https://www.w3.org/TR/shacl/) (Shapes Constraint Language) lets us describe what our RDF data must be *shaped* like to be considered valid/conformant.\n",
        "\n",
        "The SHACL shapes themselves are also formulated in RDF.\n",
        "\n",
        "You can find the RDF file (Turtle) in the `shapes` directory.\n",
        "\n"
      ],
      "metadata": {
        "id": "KRKfl9UtANLy"
      }
    },
    {
      "cell_type": "markdown",
      "source": [
        "### Visualize the shapes"
      ],
      "metadata": {
        "id": "H-naN4t7vOpR"
      }
    },
    {
      "cell_type": "markdown",
      "source": [
        "You can generate documentation (with an UML diagram) for the shapes using the web app [https://shacl-play.sparna.fr/play/doc](https://shacl-play.sparna.fr/play/doc).\n",
        "\n",
        "Copy/paste the content of `shapes/shapes.ttl` and enable \"Include diagram in the generated documentation\".\n",
        "\n",
        "You can display an example (`shapes/generated-doc.html`) here:"
      ],
      "metadata": {
        "id": "tOf5GE0MvRN9"
      }
    },
    {
      "cell_type": "code",
      "source": [
        "import IPython\n",
        "IPython.display.HTML(filename='./shapes/generated-doc.html')"
      ],
      "metadata": {
        "id": "wO6TVqKxyS8j"
      },
      "execution_count": null,
      "outputs": []
    },
    {
      "cell_type": "markdown",
      "source": [
        "### Validate the RDF\n",
        "\n",
        "To validate our data with the SHACL shapes, we can use the tool **pySHACL**."
      ],
      "metadata": {
        "id": "j8m4RxGWTgwg"
      }
    },
    {
      "cell_type": "markdown",
      "source": [
        "#### Generate RDF report"
      ],
      "metadata": {
        "id": "lDPHT4xIiO0N"
      }
    },
    {
      "cell_type": "markdown",
      "source": [
        "The generated report gets saved in the `shapes_output` directory.\n",
        "\n"
      ],
      "metadata": {
        "id": "DyBNnGmjTXDL"
      }
    },
    {
      "cell_type": "code",
      "source": [
        "!pyshacl \\\n",
        "  --shacl ./shapes/shapes.ttl \\\n",
        "  --format turtle \\\n",
        "  --output ./shapes_output/report.ttl \\\n",
        "  ./transformations_output/data.ttl"
      ],
      "metadata": {
        "id": "uZZ4mrfTNFZX"
      },
      "execution_count": null,
      "outputs": []
    },
    {
      "cell_type": "markdown",
      "source": [
        "#### Display text report"
      ],
      "metadata": {
        "id": "LI4MYsFwiUXH"
      }
    },
    {
      "cell_type": "markdown",
      "source": [
        "If you prefer, you can also output a report as a table here:"
      ],
      "metadata": {
        "id": "b_SBoX6QgWCr"
      }
    },
    {
      "cell_type": "code",
      "source": [
        "!pyshacl \\\n",
        "  --shacl ./shapes/shapes.ttl \\\n",
        "  --format table \\\n",
        "  ./transformations_output/data.ttl"
      ],
      "metadata": {
        "id": "6--T33gIgPga"
      },
      "execution_count": null,
      "outputs": []
    },
    {
      "cell_type": "markdown",
      "source": [
        "# Upload the knowledge graph"
      ],
      "metadata": {
        "id": "a3TbeO-G8AeI"
      }
    },
    {
      "cell_type": "markdown",
      "source": [
        "Thanks to the [SPARQL Protocol](https://www.w3.org/TR/sparql11-protocol/), we can upload RDF files to our triplestore using standard HTTP requests.\n",
        "\n",
        "Here we upload not just the core dataset (which we transformed from XML), but also the ontology, the SHACL shapes, and the SHACL validation report. Each of these datasets gets uploaded into its own named graph:\n",
        "\n",
        "* `https://graphs.brox.de/dwt24/ontologies/`\n",
        "* `https://graphs.brox.de/dwt24/shacl-shapes/`\n",
        "* `https://graphs.brox.de/dwt24/shacl-reports/`\n",
        "* `https://graphs.brox.de/dwt24/data/`\n",
        "\n",
        "Note that these named graphs serve just as identifiers/names, there doesn’t need to be anything at the hostname/server `graphs.brox.de`."
      ],
      "metadata": {
        "id": "eTGXYDfQ1RNm"
      }
    },
    {
      "cell_type": "code",
      "source": [
        "!curl -X \"PUT\" \\\n",
        "      -H \"Content-Type:text/turtle\" \\\n",
        "      --user \"${SPARQL_USER}:${SPARQL_PASSWORD}\" \\\n",
        "      --data-binary \"@./ontologies/o.ttl\" \\\n",
        "      \"${SPARQL_ENDPOINT_STORE}/?graph=https://graphs.brox.de/dwt24/ontologies/\""
      ],
      "metadata": {
        "id": "ERWknJxhUGZ1"
      },
      "execution_count": null,
      "outputs": []
    },
    {
      "cell_type": "code",
      "source": [
        "!curl -X \"PUT\" \\\n",
        "      -H \"Content-Type:text/turtle\" \\\n",
        "      --user \"${SPARQL_USER}:${SPARQL_PASSWORD}\" \\\n",
        "      --data-binary \"@./shapes/shapes.ttl\" \\\n",
        "      \"${SPARQL_ENDPOINT_STORE}/?graph=https://graphs.brox.de/dwt24/shacl-shapes/\""
      ],
      "metadata": {
        "id": "6gNP_8DnP9XI"
      },
      "execution_count": null,
      "outputs": []
    },
    {
      "cell_type": "code",
      "source": [
        "!curl -X \"PUT\" \\\n",
        "      -H \"Content-Type:text/turtle\" \\\n",
        "      --user \"${SPARQL_USER}:${SPARQL_PASSWORD}\" \\\n",
        "      --data-binary \"@./shapes_output/report.ttl\" \\\n",
        "      \"${SPARQL_ENDPOINT_STORE}/?graph=https://graphs.brox.de/dwt24/shacl-reports/\""
      ],
      "metadata": {
        "id": "lBS1ak3yP9Pv"
      },
      "execution_count": null,
      "outputs": []
    },
    {
      "cell_type": "code",
      "source": [
        "!curl -X \"PUT\" \\\n",
        "      -H \"Content-Type:text/turtle\" \\\n",
        "      --user \"${SPARQL_USER}:${SPARQL_PASSWORD}\" \\\n",
        "      --data-binary \"@./transformations_output/data.ttl\" \\\n",
        "      \"${SPARQL_ENDPOINT_STORE}/?graph=https://graphs.brox.de/dwt24/data/\""
      ],
      "metadata": {
        "id": "vnrVkS70P9HA"
      },
      "execution_count": null,
      "outputs": []
    },
    {
      "cell_type": "markdown",
      "source": [
        "# Query the knowledge graph"
      ],
      "metadata": {
        "id": "wlVRd50XQ5Zp"
      }
    },
    {
      "cell_type": "markdown",
      "source": [
        "## Named Graphs + count of instances (per class)"
      ],
      "metadata": {
        "id": "4votBZ4DQ9jR"
      }
    },
    {
      "cell_type": "code",
      "source": [
        "!curl -X GET \\\n",
        "      -H \"Accept:text/csv\" \\\n",
        "      --user \"${SPARQL_USER}:${SPARQL_PASSWORD}\" \\\n",
        "      \"${SPARQL_ENDPOINT_QUERY}\" \\\n",
        "      --data-urlencode \"query=SELECT DISTINCT ?g ?class (COUNT(DISTINCT ?s) AS ?count) WHERE { GRAPH ?g { ?s a ?class . } } GROUP BY ?g ?class ORDER BY ?g DESC(?count)\""
      ],
      "metadata": {
        "id": "twsjqfKiRH66"
      },
      "execution_count": null,
      "outputs": []
    }
  ]
}